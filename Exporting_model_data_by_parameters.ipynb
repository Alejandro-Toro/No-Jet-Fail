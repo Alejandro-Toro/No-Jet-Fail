{
  "nbformat": 4,
  "nbformat_minor": 0,
  "metadata": {
    "colab": {
      "provenance": []
    },
    "kernelspec": {
      "name": "python3",
      "display_name": "Python 3"
    },
    "language_info": {
      "name": "python"
    }
  },
  "cells": [
    {
      "cell_type": "markdown",
      "source": [
        "Imports"
      ],
      "metadata": {
        "id": "33WEQ6KrtzeP"
      }
    },
    {
      "cell_type": "code",
      "source": [
        "!pip install -Uqq fastai torch torchvision\n",
        "\n",
        "import pandas as pd\n",
        "import numpy as np\n",
        "import torch\n",
        "from fastai.tabular.all import (\n",
        "    TabularPandas, FillMissing, Normalize, RandomSplitter,\n",
        "    tabular_learner, mae, MSELossFlat\n",
        ")\n",
        "from google.colab import drive\n",
        "drive.mount('/content/drive')"
      ],
      "metadata": {
        "colab": {
          "base_uri": "https://localhost:8080/"
        },
        "id": "HtVBxUPlt3bi",
        "outputId": "5f59d500-7b4c-4bf9-c922-21e699432587"
      },
      "execution_count": null,
      "outputs": [
        {
          "output_type": "stream",
          "name": "stdout",
          "text": [
            "\u001b[2K   \u001b[90m━━━━━━━━━━━━━━━━━━━━━━━━━━━━━━━━━━━━━━━━\u001b[0m \u001b[32m235.3/235.3 kB\u001b[0m \u001b[31m3.5 MB/s\u001b[0m eta \u001b[36m0:00:00\u001b[0m\n",
            "\u001b[2K   \u001b[90m━━━━━━━━━━━━━━━━━━━━━━━━━━━━━━━━━━━━━━━━\u001b[0m \u001b[32m821.2/821.2 MB\u001b[0m \u001b[31m1.6 MB/s\u001b[0m eta \u001b[36m0:00:00\u001b[0m\n",
            "\u001b[2K   \u001b[90m━━━━━━━━━━━━━━━━━━━━━━━━━━━━━━━━━━━━━━━━\u001b[0m \u001b[32m393.1/393.1 MB\u001b[0m \u001b[31m1.3 MB/s\u001b[0m eta \u001b[36m0:00:00\u001b[0m\n",
            "\u001b[2K   \u001b[90m━━━━━━━━━━━━━━━━━━━━━━━━━━━━━━━━━━━━━━━━\u001b[0m \u001b[32m8.9/8.9 MB\u001b[0m \u001b[31m73.2 MB/s\u001b[0m eta \u001b[36m0:00:00\u001b[0m\n",
            "\u001b[2K   \u001b[90m━━━━━━━━━━━━━━━━━━━━━━━━━━━━━━━━━━━━━━━━\u001b[0m \u001b[32m23.7/23.7 MB\u001b[0m \u001b[31m57.5 MB/s\u001b[0m eta \u001b[36m0:00:00\u001b[0m\n",
            "\u001b[2K   \u001b[90m━━━━━━━━━━━━━━━━━━━━━━━━━━━━━━━━━━━━━━━━\u001b[0m \u001b[32m897.7/897.7 kB\u001b[0m \u001b[31m31.9 MB/s\u001b[0m eta \u001b[36m0:00:00\u001b[0m\n",
            "\u001b[2K   \u001b[90m━━━━━━━━━━━━━━━━━━━━━━━━━━━━━━━━━━━━━━━━\u001b[0m \u001b[32m571.0/571.0 MB\u001b[0m \u001b[31m3.2 MB/s\u001b[0m eta \u001b[36m0:00:00\u001b[0m\n",
            "\u001b[2K   \u001b[90m━━━━━━━━━━━━━━━━━━━━━━━━━━━━━━━━━━━━━━━━\u001b[0m \u001b[32m200.2/200.2 MB\u001b[0m \u001b[31m6.1 MB/s\u001b[0m eta \u001b[36m0:00:00\u001b[0m\n",
            "\u001b[2K   \u001b[90m━━━━━━━━━━━━━━━━━━━━━━━━━━━━━━━━━━━━━━━━\u001b[0m \u001b[32m1.1/1.1 MB\u001b[0m \u001b[31m42.7 MB/s\u001b[0m eta \u001b[36m0:00:00\u001b[0m\n",
            "\u001b[2K   \u001b[90m━━━━━━━━━━━━━━━━━━━━━━━━━━━━━━━━━━━━━━━━\u001b[0m \u001b[32m56.3/56.3 MB\u001b[0m \u001b[31m12.5 MB/s\u001b[0m eta \u001b[36m0:00:00\u001b[0m\n",
            "\u001b[2K   \u001b[90m━━━━━━━━━━━━━━━━━━━━━━━━━━━━━━━━━━━━━━━━\u001b[0m \u001b[32m158.2/158.2 MB\u001b[0m \u001b[31m6.6 MB/s\u001b[0m eta \u001b[36m0:00:00\u001b[0m\n",
            "\u001b[2K   \u001b[90m━━━━━━━━━━━━━━━━━━━━━━━━━━━━━━━━━━━━━━━━\u001b[0m \u001b[32m216.6/216.6 MB\u001b[0m \u001b[31m5.8 MB/s\u001b[0m eta \u001b[36m0:00:00\u001b[0m\n",
            "\u001b[2K   \u001b[90m━━━━━━━━━━━━━━━━━━━━━━━━━━━━━━━━━━━━━━━━\u001b[0m \u001b[32m156.8/156.8 MB\u001b[0m \u001b[31m7.1 MB/s\u001b[0m eta \u001b[36m0:00:00\u001b[0m\n",
            "\u001b[2K   \u001b[90m━━━━━━━━━━━━━━━━━━━━━━━━━━━━━━━━━━━━━━━━\u001b[0m \u001b[32m201.3/201.3 MB\u001b[0m \u001b[31m5.7 MB/s\u001b[0m eta \u001b[36m0:00:00\u001b[0m\n",
            "\u001b[2K   \u001b[90m━━━━━━━━━━━━━━━━━━━━━━━━━━━━━━━━━━━━━━━━\u001b[0m \u001b[32m19.7/19.7 MB\u001b[0m \u001b[31m79.4 MB/s\u001b[0m eta \u001b[36m0:00:00\u001b[0m\n",
            "\u001b[2K   \u001b[90m━━━━━━━━━━━━━━━━━━━━━━━━━━━━━━━━━━━━━━━━\u001b[0m \u001b[32m89.3/89.3 kB\u001b[0m \u001b[31m5.4 MB/s\u001b[0m eta \u001b[36m0:00:00\u001b[0m\n",
            "\u001b[2K   \u001b[90m━━━━━━━━━━━━━━━━━━━━━━━━━━━━━━━━━━━━━━━━\u001b[0m \u001b[32m155.7/155.7 MB\u001b[0m \u001b[31m6.8 MB/s\u001b[0m eta \u001b[36m0:00:00\u001b[0m\n",
            "\u001b[2K   \u001b[90m━━━━━━━━━━━━━━━━━━━━━━━━━━━━━━━━━━━━━━━━\u001b[0m \u001b[32m7.5/7.5 MB\u001b[0m \u001b[31m99.1 MB/s\u001b[0m eta \u001b[36m0:00:00\u001b[0m\n",
            "\u001b[2K   \u001b[90m━━━━━━━━━━━━━━━━━━━━━━━━━━━━━━━━━━━━━━━━\u001b[0m \u001b[32m78.2/78.2 kB\u001b[0m \u001b[31m5.1 MB/s\u001b[0m eta \u001b[36m0:00:00\u001b[0m\n",
            "\u001b[2K   \u001b[90m━━━━━━━━━━━━━━━━━━━━━━━━━━━━━━━━━━━━━━━━\u001b[0m \u001b[32m6.3/6.3 MB\u001b[0m \u001b[31m99.4 MB/s\u001b[0m eta \u001b[36m0:00:00\u001b[0m\n",
            "\u001b[2K   \u001b[90m━━━━━━━━━━━━━━━━━━━━━━━━━━━━━━━━━━━━━━━━\u001b[0m \u001b[32m42.6/42.6 kB\u001b[0m \u001b[31m2.5 MB/s\u001b[0m eta \u001b[36m0:00:00\u001b[0m\n",
            "\u001b[2K   \u001b[90m━━━━━━━━━━━━━━━━━━━━━━━━━━━━━━━━━━━━━━━━\u001b[0m \u001b[32m1.2/1.2 MB\u001b[0m \u001b[31m54.0 MB/s\u001b[0m eta \u001b[36m0:00:00\u001b[0m\n",
            "\u001b[?25h\u001b[31mERROR: pip's dependency resolver does not currently take into account all the packages that are installed. This behaviour is the source of the following dependency conflicts.\n",
            "torchaudio 2.6.0+cu124 requires torch==2.6.0, but you have torch 2.7.1 which is incompatible.\u001b[0m\u001b[31m\n",
            "\u001b[0mMounted at /content/drive\n"
          ]
        }
      ]
    },
    {
      "cell_type": "markdown",
      "source": [
        "DATA PREPARATION"
      ],
      "metadata": {
        "id": "JeFXtME6t4tk"
      }
    },
    {
      "cell_type": "code",
      "source": [
        "# Paths\n",
        "base_dir = '/content/drive/MyDrive/rul_project'\n",
        "train_file = f'{base_dir}/P_Train2.csv'\n",
        "test_file  = f'{base_dir}/P_Test2.csv'\n",
        "\n",
        "# Load and clean\n",
        "train_df = pd.read_csv(train_file)\n",
        "train_df.columns = train_df.columns.str.strip().str.lower()\n",
        "print(\"Columns in train_df:\", train_df.columns)  # DEBUG\n",
        "\n",
        "test_df = pd.read_csv(test_file)\n",
        "test_df.columns = test_df.columns.str.strip().str.lower()\n",
        "\n",
        "# Check that 'rul' exists!\n",
        "assert 'rul' in train_df.columns, \"Your CSV is missing the 'rul' column.\"\n",
        "\n",
        "cont_names = [c for c in train_df.columns if c != 'rul']\n",
        "cat_names  = []\n",
        "\n",
        "procs  = [FillMissing, Normalize]\n",
        "splits = RandomSplitter(valid_pct=0.2, seed=42)(train_df)\n",
        "\n",
        "tab = TabularPandas(\n",
        "    train_df, procs=procs,\n",
        "    cat_names=cat_names, cont_names=cont_names,\n",
        "    y_names='rul', splits=splits\n",
        ")\n",
        "dls = tab.dataloaders(bs=32)\n"
      ],
      "metadata": {
        "colab": {
          "base_uri": "https://localhost:8080/"
        },
        "id": "MUwLI7bSt-7c",
        "outputId": "863ab90f-5b80-4dfe-f1d3-2cb6cb69d634"
      },
      "execution_count": null,
      "outputs": [
        {
          "output_type": "stream",
          "name": "stdout",
          "text": [
            "Columns in train_df: Index(['id', 'cycle', 'sm2', 'sm3', 'sm4', 'sm7', 'sm8', 'sm11', 'sm12',\n",
            "       'sm13', 'sm15', 'sm17', 'sm20', 'sm21', 'rul'],\n",
            "      dtype='object')\n"
          ]
        }
      ]
    },
    {
      "cell_type": "markdown",
      "source": [
        "RECREATE MODEL AND LOAD BEST WEIGHTS"
      ],
      "metadata": {
        "id": "Jhv6QYsfvKtO"
      }
    },
    {
      "cell_type": "code",
      "source": [
        "layers = [400, 200, 100]\n",
        "learn = tabular_learner(\n",
        "    dls,\n",
        "    layers=layers,\n",
        "    loss_func=MSELossFlat(),\n",
        "    metrics=mae\n",
        ")\n",
        "\n",
        "model_save_path = f'{base_dir}/best_fd002'\n",
        "learn.save(model_save_path)\n",
        "learn.load(model_save_path)\n"
      ],
      "metadata": {
        "colab": {
          "base_uri": "https://localhost:8080/"
        },
        "id": "GqM0UmRyvM-x",
        "outputId": "34e3243d-abb3-4b1e-f11b-b0db6c0b9a23"
      },
      "execution_count": null,
      "outputs": [
        {
          "output_type": "stream",
          "name": "stderr",
          "text": [
            "/usr/local/lib/python3.11/dist-packages/fastai/learner.py:67: UserWarning: Saved file doesn't contain an optimizer state.\n",
            "  elif with_opt: warn(\"Saved file doesn't contain an optimizer state.\")\n"
          ]
        },
        {
          "output_type": "execute_result",
          "data": {
            "text/plain": [
              "<fastai.tabular.learner.TabularLearner at 0x7bf24bf87b50>"
            ]
          },
          "metadata": {},
          "execution_count": 4
        }
      ]
    },
    {
      "cell_type": "markdown",
      "source": [
        "EXPORT THE MODEL FOR FRONTEND DEVELOPERS"
      ],
      "metadata": {
        "id": "vv4Nw0MQvNgS"
      }
    },
    {
      "cell_type": "code",
      "source": [
        "# 1. Install packages (Colab cell)\n",
        "!pip install -Uqq fastai torch torchvision\n",
        "\n",
        "# 2. Imports\n",
        "import pandas as pd\n",
        "import numpy as np\n",
        "import torch\n",
        "from fastai.tabular.all import (\n",
        "    TabularPandas, FillMissing, Normalize, RandomSplitter,\n",
        "    tabular_learner, mae, MSELossFlat\n",
        ")\n",
        "from google.colab import drive\n",
        "drive.mount('/content/drive')\n",
        "\n",
        "# 3. Paths\n",
        "base_dir = '/content/drive/MyDrive/rul_project'\n",
        "train_file = f'{base_dir}/P_Train2.csv'\n",
        "test_file  = f'{base_dir}/P_Test2.csv'\n",
        "model_save_path = f'{base_dir}/best_fd002'  # DO NOT add .pth extension!\n",
        "\n",
        "# 4. Load and clean data\n",
        "train_df = pd.read_csv(train_file)\n",
        "train_df.columns = train_df.columns.str.strip().str.lower()\n",
        "test_df = pd.read_csv(test_file)\n",
        "test_df.columns = test_df.columns.str.strip().str.lower()\n",
        "\n",
        "assert 'rul' in train_df.columns, \"Your CSV is missing the 'rul' column.\"\n",
        "cont_names = [c for c in train_df.columns if c != 'rul']\n",
        "cat_names  = []\n",
        "\n",
        "# 5. Setup fastai TabularPandas and DataLoaders\n",
        "procs  = [FillMissing, Normalize]\n",
        "splits = RandomSplitter(valid_pct=0.2, seed=42)(train_df)\n",
        "tab = TabularPandas(\n",
        "    train_df, procs=procs,\n",
        "    cat_names=cat_names, cont_names=cont_names,\n",
        "    y_names='rul', splits=splits\n",
        ")\n",
        "dls = tab.dataloaders(bs=32)\n",
        "\n",
        "# 6. Create learner\n",
        "layers = [400, 200, 100]\n",
        "learn = tabular_learner(\n",
        "    dls,\n",
        "    layers=layers,\n",
        "    loss_func=MSELossFlat(),\n",
        "    metrics=mae\n",
        ")\n",
        "\n",
        "# 7. Train model (uncomment and run for training, or skip if already trained)\n",
        "lr = 0.015849\n",
        "learn.fit_one_cycle(30, lr_max=lr)\n",
        "\n",
        "# 8. Save model to Google Drive\n",
        "learn.save(model_save_path)  # Saves as 'best_fd002.pth' in your Drive!\n",
        "\n",
        "# 9. Load model from Google Drive (for future use, validation, or inference)\n",
        "learn.load(model_save_path)  # Looks for 'best_fd002.pth' in your Drive\n",
        "\n",
        "# 10. Confirm MAE on the validation set\n",
        "val_mae = learn.validate()[1]\n",
        "print(f\"Validation MAE of loaded model: {val_mae:.4f}\")\n",
        "\n",
        "print('Model trained, saved, loaded, and validated successfully. Ready for inference or export!')\n"
      ],
      "metadata": {
        "colab": {
          "base_uri": "https://localhost:8080/",
          "height": 1000
        },
        "id": "_Ol_bMQnvPZl",
        "outputId": "5e44feba-079e-40ea-ed13-b8d090b49006"
      },
      "execution_count": null,
      "outputs": [
        {
          "output_type": "stream",
          "name": "stdout",
          "text": [
            "Drive already mounted at /content/drive; to attempt to forcibly remount, call drive.mount(\"/content/drive\", force_remount=True).\n"
          ]
        },
        {
          "output_type": "display_data",
          "data": {
            "text/plain": [
              "<IPython.core.display.HTML object>"
            ],
            "text/html": [
              "\n",
              "<style>\n",
              "    /* Turns off some styling */\n",
              "    progress {\n",
              "        /* gets rid of default border in Firefox and Opera. */\n",
              "        border: none;\n",
              "        /* Needs to be in here for Safari polyfill so background images work as expected. */\n",
              "        background-size: auto;\n",
              "    }\n",
              "    progress:not([value]), progress:not([value])::-webkit-progress-bar {\n",
              "        background: repeating-linear-gradient(45deg, #7e7e7e, #7e7e7e 10px, #5c5c5c 10px, #5c5c5c 20px);\n",
              "    }\n",
              "    .progress-bar-interrupted, .progress-bar-interrupted::-webkit-progress-bar {\n",
              "        background: #F44336;\n",
              "    }\n",
              "</style>\n"
            ]
          },
          "metadata": {}
        },
        {
          "output_type": "display_data",
          "data": {
            "text/plain": [
              "<IPython.core.display.HTML object>"
            ],
            "text/html": [
              "<table border=\"1\" class=\"dataframe\">\n",
              "  <thead>\n",
              "    <tr style=\"text-align: left;\">\n",
              "      <th>epoch</th>\n",
              "      <th>train_loss</th>\n",
              "      <th>valid_loss</th>\n",
              "      <th>mae</th>\n",
              "      <th>time</th>\n",
              "    </tr>\n",
              "  </thead>\n",
              "  <tbody>\n",
              "    <tr>\n",
              "      <td>0</td>\n",
              "      <td>1819.538330</td>\n",
              "      <td>1553.570312</td>\n",
              "      <td>29.463625</td>\n",
              "      <td>00:17</td>\n",
              "    </tr>\n",
              "    <tr>\n",
              "      <td>1</td>\n",
              "      <td>1694.686401</td>\n",
              "      <td>1635.078247</td>\n",
              "      <td>29.973770</td>\n",
              "      <td>00:17</td>\n",
              "    </tr>\n",
              "    <tr>\n",
              "      <td>2</td>\n",
              "      <td>1489.202271</td>\n",
              "      <td>1501.269775</td>\n",
              "      <td>28.728601</td>\n",
              "      <td>00:16</td>\n",
              "    </tr>\n",
              "    <tr>\n",
              "      <td>3</td>\n",
              "      <td>1675.884766</td>\n",
              "      <td>1717.552246</td>\n",
              "      <td>30.143536</td>\n",
              "      <td>00:16</td>\n",
              "    </tr>\n",
              "    <tr>\n",
              "      <td>4</td>\n",
              "      <td>1628.234985</td>\n",
              "      <td>1576.809448</td>\n",
              "      <td>28.708557</td>\n",
              "      <td>00:17</td>\n",
              "    </tr>\n",
              "    <tr>\n",
              "      <td>5</td>\n",
              "      <td>1615.343140</td>\n",
              "      <td>2152.038818</td>\n",
              "      <td>38.442047</td>\n",
              "      <td>00:18</td>\n",
              "    </tr>\n",
              "    <tr>\n",
              "      <td>6</td>\n",
              "      <td>1710.621582</td>\n",
              "      <td>1730.948608</td>\n",
              "      <td>32.585335</td>\n",
              "      <td>00:17</td>\n",
              "    </tr>\n",
              "    <tr>\n",
              "      <td>7</td>\n",
              "      <td>1755.802368</td>\n",
              "      <td>2436.211426</td>\n",
              "      <td>37.115005</td>\n",
              "      <td>00:17</td>\n",
              "    </tr>\n",
              "    <tr>\n",
              "      <td>8</td>\n",
              "      <td>1588.365479</td>\n",
              "      <td>2462.953125</td>\n",
              "      <td>31.031404</td>\n",
              "      <td>00:17</td>\n",
              "    </tr>\n",
              "    <tr>\n",
              "      <td>9</td>\n",
              "      <td>1601.012329</td>\n",
              "      <td>1579.274536</td>\n",
              "      <td>29.062504</td>\n",
              "      <td>00:20</td>\n",
              "    </tr>\n",
              "    <tr>\n",
              "      <td>10</td>\n",
              "      <td>1531.708130</td>\n",
              "      <td>1599.665894</td>\n",
              "      <td>30.058186</td>\n",
              "      <td>00:18</td>\n",
              "    </tr>\n",
              "    <tr>\n",
              "      <td>11</td>\n",
              "      <td>1636.464355</td>\n",
              "      <td>127146.453125</td>\n",
              "      <td>37.232632</td>\n",
              "      <td>00:22</td>\n",
              "    </tr>\n",
              "    <tr>\n",
              "      <td>12</td>\n",
              "      <td>1610.526978</td>\n",
              "      <td>1646.948364</td>\n",
              "      <td>28.988632</td>\n",
              "      <td>00:22</td>\n",
              "    </tr>\n",
              "    <tr>\n",
              "      <td>13</td>\n",
              "      <td>1664.003662</td>\n",
              "      <td>1712.438110</td>\n",
              "      <td>30.131176</td>\n",
              "      <td>00:22</td>\n",
              "    </tr>\n",
              "    <tr>\n",
              "      <td>14</td>\n",
              "      <td>1641.052734</td>\n",
              "      <td>1587.409912</td>\n",
              "      <td>29.497198</td>\n",
              "      <td>00:19</td>\n",
              "    </tr>\n",
              "    <tr>\n",
              "      <td>15</td>\n",
              "      <td>1596.142090</td>\n",
              "      <td>5033.402344</td>\n",
              "      <td>35.645729</td>\n",
              "      <td>00:20</td>\n",
              "    </tr>\n",
              "    <tr>\n",
              "      <td>16</td>\n",
              "      <td>1643.533936</td>\n",
              "      <td>1498.150757</td>\n",
              "      <td>28.554844</td>\n",
              "      <td>00:20</td>\n",
              "    </tr>\n",
              "    <tr>\n",
              "      <td>17</td>\n",
              "      <td>1639.297119</td>\n",
              "      <td>1735.899414</td>\n",
              "      <td>32.451324</td>\n",
              "      <td>00:21</td>\n",
              "    </tr>\n",
              "    <tr>\n",
              "      <td>18</td>\n",
              "      <td>1539.381836</td>\n",
              "      <td>1467.900391</td>\n",
              "      <td>28.755692</td>\n",
              "      <td>00:20</td>\n",
              "    </tr>\n",
              "    <tr>\n",
              "      <td>19</td>\n",
              "      <td>1464.723877</td>\n",
              "      <td>15734466.000000</td>\n",
              "      <td>90.433670</td>\n",
              "      <td>00:18</td>\n",
              "    </tr>\n",
              "    <tr>\n",
              "      <td>20</td>\n",
              "      <td>1609.474243</td>\n",
              "      <td>1480.409912</td>\n",
              "      <td>28.205873</td>\n",
              "      <td>00:20</td>\n",
              "    </tr>\n",
              "    <tr>\n",
              "      <td>21</td>\n",
              "      <td>1684.854980</td>\n",
              "      <td>1448.513306</td>\n",
              "      <td>28.261732</td>\n",
              "      <td>00:20</td>\n",
              "    </tr>\n",
              "    <tr>\n",
              "      <td>22</td>\n",
              "      <td>1610.995483</td>\n",
              "      <td>1523.497192</td>\n",
              "      <td>29.633173</td>\n",
              "      <td>00:20</td>\n",
              "    </tr>\n",
              "    <tr>\n",
              "      <td>23</td>\n",
              "      <td>1552.005005</td>\n",
              "      <td>1486.096680</td>\n",
              "      <td>29.883173</td>\n",
              "      <td>00:19</td>\n",
              "    </tr>\n",
              "    <tr>\n",
              "      <td>24</td>\n",
              "      <td>1605.343750</td>\n",
              "      <td>1433.818726</td>\n",
              "      <td>27.532497</td>\n",
              "      <td>00:19</td>\n",
              "    </tr>\n",
              "    <tr>\n",
              "      <td>25</td>\n",
              "      <td>1532.244385</td>\n",
              "      <td>1416.373047</td>\n",
              "      <td>27.809925</td>\n",
              "      <td>00:21</td>\n",
              "    </tr>\n",
              "    <tr>\n",
              "      <td>26</td>\n",
              "      <td>1536.226196</td>\n",
              "      <td>1424.105225</td>\n",
              "      <td>28.005177</td>\n",
              "      <td>00:25</td>\n",
              "    </tr>\n",
              "    <tr>\n",
              "      <td>27</td>\n",
              "      <td>1501.152344</td>\n",
              "      <td>1407.284668</td>\n",
              "      <td>27.496305</td>\n",
              "      <td>00:21</td>\n",
              "    </tr>\n",
              "    <tr>\n",
              "      <td>28</td>\n",
              "      <td>1400.666260</td>\n",
              "      <td>1416.583984</td>\n",
              "      <td>27.722960</td>\n",
              "      <td>00:21</td>\n",
              "    </tr>\n",
              "    <tr>\n",
              "      <td>29</td>\n",
              "      <td>1425.567017</td>\n",
              "      <td>1403.333862</td>\n",
              "      <td>27.625637</td>\n",
              "      <td>00:19</td>\n",
              "    </tr>\n",
              "  </tbody>\n",
              "</table>"
            ]
          },
          "metadata": {}
        },
        {
          "output_type": "display_data",
          "data": {
            "text/plain": [
              "<IPython.core.display.HTML object>"
            ],
            "text/html": [
              "\n",
              "<style>\n",
              "    /* Turns off some styling */\n",
              "    progress {\n",
              "        /* gets rid of default border in Firefox and Opera. */\n",
              "        border: none;\n",
              "        /* Needs to be in here for Safari polyfill so background images work as expected. */\n",
              "        background-size: auto;\n",
              "    }\n",
              "    progress:not([value]), progress:not([value])::-webkit-progress-bar {\n",
              "        background: repeating-linear-gradient(45deg, #7e7e7e, #7e7e7e 10px, #5c5c5c 10px, #5c5c5c 20px);\n",
              "    }\n",
              "    .progress-bar-interrupted, .progress-bar-interrupted::-webkit-progress-bar {\n",
              "        background: #F44336;\n",
              "    }\n",
              "</style>\n"
            ]
          },
          "metadata": {}
        },
        {
          "output_type": "display_data",
          "data": {
            "text/plain": [
              "<IPython.core.display.HTML object>"
            ],
            "text/html": []
          },
          "metadata": {}
        },
        {
          "output_type": "stream",
          "name": "stdout",
          "text": [
            "Validation MAE of loaded model: 27.6256\n",
            "Model trained, saved, loaded, and validated successfully. Ready for inference or export!\n"
          ]
        }
      ]
    },
    {
      "cell_type": "code",
      "source": [
        "# --- 11. Calculate Healthy Ranges for Each Sensor at Each RUL Bin ---\n",
        "\n",
        "# Parameters\n",
        "RUL_BIN_SIZE      = 10      # bin width in cycles (0–10,10–20,…)\n",
        "PCTL_LOW, PCTL_HI = 10, 90  # percentile bounds for \"healthy\" range\n",
        "\n",
        "# Copy and bin\n",
        "train_health = train_df.copy()\n",
        "train_health['rul_bin'] = (train_health['rul']//RUL_BIN_SIZE)*RUL_BIN_SIZE\n",
        "\n",
        "# Identify only the sensor columns (drop metadata)\n",
        "sensor_cols = [c for c in cont_names\n",
        "               if c not in ('cycle','id','time') and not c.startswith('engine')]\n",
        "\n",
        "# Compute per-bin low/high percentiles\n",
        "agg_dict = {c: [lambda x: np.percentile(x,PCTL_LOW),\n",
        "                lambda x: np.percentile(x,PCTL_HI)]\n",
        "            for c in sensor_cols}\n",
        "healthy_ranges = (\n",
        "    train_health\n",
        "    .groupby('rul_bin')\n",
        "    .agg(agg_dict)\n",
        ")\n",
        "# Flatten column names\n",
        "healthy_ranges.columns = [f\"{sensor}_{suffix}\"\n",
        "                          for sensor,suffix in healthy_ranges.columns]\n",
        "healthy_ranges = healthy_ranges.reset_index()\n",
        "print(\"Healthy ranges sample:\")\n",
        "print(healthy_ranges.head())\n",
        "\n",
        "# === ADD THIS LINE to save as CSV ===\n",
        "healthy_ranges.to_csv(f\"{base_dir}/healthy_ranges_fd002.csv\", index=False)\n",
        "print(f\"Saved healthy ranges to {base_dir}/healthy_ranges_fd002.csv\")\n",
        "\n",
        "\n",
        "\n",
        "# --- 12. Helper: fetch the low/high band for a predicted RUL ---\n",
        "def get_healthy_band(pred_rul):\n",
        "    bin_val = int((pred_rul//RUL_BIN_SIZE)*RUL_BIN_SIZE)\n",
        "    sub = healthy_ranges[healthy_ranges.rul_bin==bin_val]\n",
        "    if sub.empty:\n",
        "        # fallback to nearest\n",
        "        i = (healthy_ranges.rul_bin - bin_val).abs().argmin()\n",
        "        sub = healthy_ranges.iloc[[i]]\n",
        "    out = {}\n",
        "    for s in sensor_cols:\n",
        "        low  = sub[f\"{s}_<lambda_0>\"].values[0]\n",
        "        high = sub[f\"{s}_<lambda_1>\"].values[0]\n",
        "        out[s] = (low,high)\n",
        "    return out\n",
        "\n",
        "\n",
        "# --- 13. Inference + comparison function using test_dl() ---\n",
        "def predict_and_compare(row):\n",
        "    \"\"\"\n",
        "    row: a pd.Series or dict containing at least all `cont_names`\n",
        "    \"\"\"\n",
        "    # 1. Build single-row DataFrame with only our cont_names\n",
        "    df = pd.DataFrame([row])[cont_names]\n",
        "    # 2. Create a test dataloader and get preds\n",
        "    dl = learn.dls.test_dl(df)\n",
        "    preds,_ = learn.get_preds(dl=dl)\n",
        "    pred_rul = preds[0].item()\n",
        "    print(f\"\\nPredicted RUL: {pred_rul:.1f}\")\n",
        "\n",
        "    # 3. Get the healthy band for that RUL\n",
        "    band = get_healthy_band(pred_rul)\n",
        "    print(\"\\nSensor\\tValue\\tLow\\tHigh\\tOK?\")\n",
        "    for s in sensor_cols:\n",
        "        val = row[s]\n",
        "        low,high = band[s]\n",
        "        ok = low <= val <= high\n",
        "        print(f\"{s}\\t{val:.2f}\\t{low:.2f}\\t{high:.2f}\\t{'In range' if ok else 'Warning!'}\")\n",
        "\n",
        "\n",
        "# --- 14. Example on your test set ---\n",
        "sample = test_df.iloc[0]  # pd.Series\n",
        "predict_and_compare(sample)\n"
      ],
      "metadata": {
        "colab": {
          "base_uri": "https://localhost:8080/",
          "height": 955
        },
        "id": "vmXBYkESUyVc",
        "outputId": "35527470-3a50-452c-8ad9-9a44d7e6b260"
      },
      "execution_count": null,
      "outputs": [
        {
          "output_type": "stream",
          "name": "stdout",
          "text": [
            "Healthy ranges sample:\n",
            "   rul_bin  sm2_<lambda_0>  sm2_<lambda_1>  sm3_<lambda_0>  sm3_<lambda_1>  \\\n",
            "0        0         537.510         643.460        1272.838        1599.512   \n",
            "1       10         537.340         643.250        1270.875        1596.523   \n",
            "2       20         537.239         643.030        1269.258        1594.216   \n",
            "3       30         537.180         642.820        1267.607        1592.418   \n",
            "4       40         537.150         642.801        1267.448        1591.360   \n",
            "\n",
            "   sm4_<lambda_0>  sm4_<lambda_1>  sm7_<lambda_0>  sm7_<lambda_1>  \\\n",
            "0        1065.269        1425.991          138.12          551.41   \n",
            "1        1062.193        1420.625          138.25          551.85   \n",
            "2        1059.636        1416.751          138.33          552.20   \n",
            "3        1057.198        1413.230          138.36          552.39   \n",
            "4        1056.279        1411.509          138.38          552.66   \n",
            "\n",
            "   sm8_<lambda_0>  ...  sm13_<lambda_0>  sm13_<lambda_1>  sm15_<lambda_0>  \\\n",
            "0        1916.018  ...         2028.958         2388.940          8.52127   \n",
            "1        1915.769  ...         2028.679         2388.770          8.50379   \n",
            "2        1915.670  ...         2028.580         2388.581          8.49568   \n",
            "3        1915.570  ...         2028.469         2388.460          8.48410   \n",
            "4        1915.590  ...         2028.499         2388.360          8.46979   \n",
            "\n",
            "   sm15_<lambda_1>  sm17_<lambda_0>  sm17_<lambda_1>  sm20_<lambda_0>  \\\n",
            "0         10.99101            310.0            396.0            10.46   \n",
            "1         10.97560            309.0            395.0            10.49   \n",
            "2         10.95292            309.0            394.0            10.51   \n",
            "3         10.93721            308.0            394.0            10.53   \n",
            "4         10.92471            308.0            394.0            10.54   \n",
            "\n",
            "   sm20_<lambda_1>  sm21_<lambda_0>  sm21_<lambda_1>  \n",
            "0            38.44          6.27840         23.06948  \n",
            "1            38.52          6.30297         23.10862  \n",
            "2            38.57          6.30908         23.14510  \n",
            "3            38.62          6.31099         23.17552  \n",
            "4            38.67          6.32019         23.21104  \n",
            "\n",
            "[5 rows x 25 columns]\n",
            "Saved healthy ranges to /content/drive/MyDrive/rul_project/healthy_ranges_fd002.csv\n"
          ]
        },
        {
          "output_type": "display_data",
          "data": {
            "text/plain": [
              "<IPython.core.display.HTML object>"
            ],
            "text/html": [
              "\n",
              "<style>\n",
              "    /* Turns off some styling */\n",
              "    progress {\n",
              "        /* gets rid of default border in Firefox and Opera. */\n",
              "        border: none;\n",
              "        /* Needs to be in here for Safari polyfill so background images work as expected. */\n",
              "        background-size: auto;\n",
              "    }\n",
              "    progress:not([value]), progress:not([value])::-webkit-progress-bar {\n",
              "        background: repeating-linear-gradient(45deg, #7e7e7e, #7e7e7e 10px, #5c5c5c 10px, #5c5c5c 20px);\n",
              "    }\n",
              "    .progress-bar-interrupted, .progress-bar-interrupted::-webkit-progress-bar {\n",
              "        background: #F44336;\n",
              "    }\n",
              "</style>\n"
            ]
          },
          "metadata": {}
        },
        {
          "output_type": "display_data",
          "data": {
            "text/plain": [
              "<IPython.core.display.HTML object>"
            ],
            "text/html": []
          },
          "metadata": {}
        },
        {
          "output_type": "stream",
          "name": "stdout",
          "text": [
            "\n",
            "Predicted RUL: 190.9\n",
            "\n",
            "Sensor\tValue\tLow\tHigh\tOK?\n",
            "sm2\t605.03\t536.81\t642.15\tIn range\n",
            "sm3\t1497.17\t1262.20\t1584.33\tIn range\n",
            "sm4\t1304.99\t1047.41\t1399.63\tIn range\n",
            "sm7\t394.54\t138.61\t553.68\tIn range\n",
            "sm8\t2318.96\t1915.39\t2388.03\tIn range\n",
            "sm11\t45.61\t36.67\t47.25\tIn range\n",
            "sm12\t371.69\t130.55\t521.66\tIn range\n",
            "sm13\t2388.18\t2028.31\t2388.16\tWarning!\n",
            "sm15\t8.65\t8.43\t10.87\tIn range\n",
            "sm17\t369.00\t307.00\t392.00\tIn range\n",
            "sm20\t28.42\t10.59\t38.89\tIn range\n",
            "sm21\t17.16\t6.35\t23.33\tIn range\n"
          ]
        }
      ]
    }
  ]
}